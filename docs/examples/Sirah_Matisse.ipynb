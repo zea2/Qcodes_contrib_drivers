{
 "cells": [
  {
   "cell_type": "code",
   "execution_count": 1,
   "metadata": {},
   "outputs": [],
   "source": [
    "from qcodes_contrib_drivers.drivers.Sirah.Matisse import *\n",
    "from qcodes.loops import Loop\n",
    "import visa\n",
    "from qcodes.dataset.plotting import plot_dataset\n",
    "import time"
   ]
  },
  {
   "cell_type": "code",
   "execution_count": 2,
   "metadata": {},
   "outputs": [
    {
     "data": {
      "text/plain": [
       "('USB0::0x17E7::0x0101::15-25-15::INSTR', 'ASRL1::INSTR', 'ASRL3::INSTR')"
      ]
     },
     "execution_count": 2,
     "metadata": {},
     "output_type": "execute_result"
    }
   ],
   "source": [
    "rm = visa.ResourceManager()\n",
    "\n",
    "rm.list_resources()"
   ]
  },
  {
   "cell_type": "code",
   "execution_count": null,
   "metadata": {},
   "outputs": [],
   "source": [
    "vinstr = rm.open_resource(\"USB0::0x17E7::0x0101::15-25-15::INSTR\")"
   ]
  },
  {
   "cell_type": "code",
   "execution_count": null,
   "metadata": {},
   "outputs": [],
   "source": [
    "vinstr.query(\"MOTBI:CL\")"
   ]
  },
  {
   "cell_type": "code",
   "execution_count": null,
   "metadata": {},
   "outputs": [],
   "source": [
    "vinstr.query(\"MOTTE:CL\")"
   ]
  },
  {
   "cell_type": "code",
   "execution_count": null,
   "metadata": {},
   "outputs": [],
   "source": [
    "vinstr.query(\"ERR:CL\")"
   ]
  },
  {
   "cell_type": "code",
   "execution_count": null,
   "metadata": {
    "scrolled": true
   },
   "outputs": [],
   "source": [
    "vinstr.query(\"IDN?\")"
   ]
  },
  {
   "cell_type": "code",
   "execution_count": null,
   "metadata": {},
   "outputs": [],
   "source": [
    "vinstr.query(\"MOTBI:STA?\")"
   ]
  },
  {
   "cell_type": "code",
   "execution_count": null,
   "metadata": {},
   "outputs": [],
   "source": [
    "vinstr.close()"
   ]
  },
  {
   "cell_type": "code",
   "execution_count": 3,
   "metadata": {
    "scrolled": true
   },
   "outputs": [
    {
     "name": "stdout",
     "output_type": "stream",
     "text": [
      "Connected to: Sirah \"Matisse TR (serial:15-25-15, firmware:1.13) in 0.03s\n"
     ]
    }
   ],
   "source": [
    "instr = SirahMatisse(\"matisse\", \"USB0::0x17E7::0x0101::15-25-15::INSTR\")"
   ]
  },
  {
   "cell_type": "code",
   "execution_count": 4,
   "metadata": {},
   "outputs": [
    {
     "data": {
      "text/plain": [
       "[]"
      ]
     },
     "execution_count": 4,
     "metadata": {},
     "output_type": "execute_result"
    }
   ],
   "source": [
    "instr.error_codes()"
   ]
  },
  {
   "cell_type": "code",
   "execution_count": 5,
   "metadata": {},
   "outputs": [],
   "source": [
    "instr.error_clear()"
   ]
  },
  {
   "cell_type": "code",
   "execution_count": 6,
   "metadata": {
    "scrolled": true
   },
   "outputs": [
    {
     "data": {
      "text/plain": [
       "{'vendor': 'Sirah',\n",
       " 'model': '\"Matisse TR',\n",
       " 'serial': '15-25-15',\n",
       " 'firmware': '1.13',\n",
       " 'board': '01.01',\n",
       " 'date': 'Jan 27 2015\"'}"
      ]
     },
     "execution_count": 6,
     "metadata": {},
     "output_type": "execute_result"
    }
   ],
   "source": [
    "instr.IDN()"
   ]
  },
  {
   "cell_type": "code",
   "execution_count": 7,
   "metadata": {
    "scrolled": true
   },
   "outputs": [
    {
     "data": {
      "text/plain": [
       "97000"
      ]
     },
     "execution_count": 7,
     "metadata": {},
     "output_type": "execute_result"
    }
   ],
   "source": [
    "instr.motor_bifi.position()"
   ]
  },
  {
   "cell_type": "code",
   "execution_count": null,
   "metadata": {},
   "outputs": [],
   "source": [
    "instr.motor_bifi.position(98000)"
   ]
  },
  {
   "cell_type": "code",
   "execution_count": 8,
   "metadata": {},
   "outputs": [],
   "source": [
    "# Sweep position from 97000 to 99000 in steps of 50\n",
    "\n",
    "# Following line doesn't work because sweep-fucntion generates floats instead of ints:\n",
    "# loop = Loop(instr.bifi.position.sweep(95000, 100000, step=50)).each(...)\n",
    "\n",
    "# Instead use a range\n",
    "rng = range(97000, 99000, 50)\n",
    "loop = Loop(instr.motor_bifi.position[rng]).each(instr.motor_bifi.position, instr.power_diode.dc_value, instr.thin_etalon.dc_value)"
   ]
  },
  {
   "cell_type": "code",
   "execution_count": 9,
   "metadata": {},
   "outputs": [
    {
     "name": "stdout",
     "output_type": "stream",
     "text": [
      "Started at 2020-10-26 15:39:30\n",
      "DataSet:\n",
      "   location = 'data/2020-10-26/#012_{name}_15-39-30'\n",
      "   <Type>   | <array_id>                      | <array.name> | <array.shape>\n",
      "   Setpoint | matisse_motor_bifi_position_set | position     | (40,)\n",
      "   Measured | matisse_motor_bifi_position     | position     | (40,)\n",
      "   Measured | matisse_power_diode_dc_value    | dc_value     | (40,)\n",
      "   Measured | matisse_thin_etalon_dc_value    | dc_value     | (40,)\n",
      "Finished at 2020-10-26 15:39:39\n"
     ]
    }
   ],
   "source": [
    "# Run sweep\n",
    "\n",
    "# There will be a problem running the sweep, because setting the position\n",
    "# doesn't wait until the position is reached. Need to do something to prevent\n",
    "# this... (maybe there is a wait-command or poll the position by hand, e.g. poll status != idle)\n",
    "\n",
    "data = loop.run()"
   ]
  },
  {
   "cell_type": "code",
   "execution_count": 10,
   "metadata": {
    "scrolled": true
   },
   "outputs": [
    {
     "data": {
      "text/plain": [
       "DataSet:\n",
       "   location = 'data/2020-10-26/#012_{name}_15-39-30'\n",
       "   <Type>   | <array_id>                      | <array.name> | <array.shape>\n",
       "   Setpoint | matisse_motor_bifi_position_set | position     | (40,)\n",
       "   Measured | matisse_motor_bifi_position     | position     | (40,)\n",
       "   Measured | matisse_power_diode_dc_value    | dc_value     | (40,)\n",
       "   Measured | matisse_thin_etalon_dc_value    | dc_value     | (40,)"
      ]
     },
     "execution_count": 10,
     "metadata": {},
     "output_type": "execute_result"
    }
   ],
   "source": [
    "data"
   ]
  },
  {
   "cell_type": "code",
   "execution_count": 11,
   "metadata": {},
   "outputs": [
    {
     "name": "stdout",
     "output_type": "stream",
     "text": [
      "POSITION SET \t MEASURED POS \t POWER DIODE \t THIN ETALON REFLEX\n",
      "97000.0 \t 97000.0 \t 0.0078125 \t 0.0078125\n",
      "97050.0 \t 97050.0 \t 0.008789063 \t 0.0078125\n",
      "97100.0 \t 97100.0 \t 0.0078125 \t 0.0078125\n",
      "97150.0 \t 97150.0 \t 0.0078125 \t 0.0078125\n",
      "97200.0 \t 97200.0 \t 0.008789063 \t 0.006835938\n",
      "97250.0 \t 97250.0 \t 0.0078125 \t 0.0078125\n",
      "97300.0 \t 97300.0 \t 0.0078125 \t 0.006835938\n",
      "97350.0 \t 97350.0 \t 0.008789063 \t 0.0078125\n",
      "97400.0 \t 97400.0 \t 0.0078125 \t 0.0078125\n",
      "97450.0 \t 97450.0 \t 0.0078125 \t 0.0078125\n",
      "97500.0 \t 97500.0 \t 0.008789063 \t 0.0078125\n",
      "97550.0 \t 97550.0 \t 0.0078125 \t 0.0078125\n",
      "97600.0 \t 97600.0 \t 0.0078125 \t 0.0078125\n",
      "97650.0 \t 97650.0 \t 0.0078125 \t 0.008789063\n",
      "97700.0 \t 97700.0 \t 0.0078125 \t 0.006835938\n",
      "97750.0 \t 97750.0 \t 0.0078125 \t 0.008789063\n",
      "97800.0 \t 97800.0 \t 0.0078125 \t 0.0078125\n",
      "97850.0 \t 97850.0 \t 0.008789063 \t 0.0078125\n",
      "97900.0 \t 97900.0 \t 0.0078125 \t 0.0078125\n",
      "97950.0 \t 97950.0 \t 0.0078125 \t 0.006835938\n",
      "98000.0 \t 98000.0 \t 0.0078125 \t 0.008789063\n",
      "98050.0 \t 98050.0 \t 0.0078125 \t 0.0078125\n",
      "98100.0 \t 98100.0 \t 0.0078125 \t 0.0078125\n",
      "98150.0 \t 98150.0 \t 0.008789063 \t 0.006835938\n",
      "98200.0 \t 98200.0 \t 0.008789063 \t 0.0078125\n",
      "98250.0 \t 98250.0 \t 0.0078125 \t 0.0078125\n",
      "98300.0 \t 98300.0 \t 0.0078125 \t 0.0078125\n",
      "98350.0 \t 98350.0 \t 0.0078125 \t 0.0078125\n",
      "98400.0 \t 98400.0 \t 0.0078125 \t 0.006835938\n",
      "98450.0 \t 98450.0 \t 0.008789063 \t 0.0078125\n",
      "98500.0 \t 98500.0 \t 0.008789063 \t 0.008789063\n",
      "98550.0 \t 98550.0 \t 0.0078125 \t 0.0078125\n",
      "98600.0 \t 98600.0 \t 0.0078125 \t 0.006835938\n",
      "98650.0 \t 98650.0 \t 0.0078125 \t 0.006835938\n",
      "98700.0 \t 98700.0 \t 0.008789063 \t 0.0078125\n",
      "98750.0 \t 98750.0 \t 0.008789063 \t 0.006835938\n",
      "98800.0 \t 98800.0 \t 0.008789063 \t 0.0078125\n",
      "98850.0 \t 98850.0 \t 0.0078125 \t 0.0078125\n",
      "98900.0 \t 98900.0 \t 0.0078125 \t 0.0078125\n",
      "98950.0 \t 98950.0 \t 0.008789063 \t 0.0078125\n"
     ]
    }
   ],
   "source": [
    "# Here you will see that sweeping is faster than setting the position\n",
    "print(\"POSITION SET\", \"\\t\", \"MEASURED POS\", \"\\t\", \"POWER DIODE\", \"\\t\", \"THIN ETALON REFLEX\")\n",
    "for i, setpoint in enumerate(data.matisse_motor_bifi_position_set):\n",
    "    print(setpoint, \"\\t\", data.matisse_motor_bifi_position[i], \"\\t\", data.matisse_power_diode_dc_value[i], \"\\t\", data.matisse_thin_etalon_dc_value[i])"
   ]
  },
  {
   "cell_type": "code",
   "execution_count": 12,
   "metadata": {},
   "outputs": [
    {
     "data": {
      "image/png": "[encoded data removed]",
      "text/plain": [
       "<Figure size 432x288 with 1 Axes>"
      ]
     },
     "metadata": {
      "needs_background": "light"
     },
     "output_type": "display_data"
    }
   ],
   "source": [
    "import matplotlib.pyplot as plt\n",
    "\n",
    "x = data.matisse_motor_bifi_position_set\n",
    "y_list = [data.matisse_power_diode_dc_value, data.matisse_thin_etalon_dc_value]\n",
    "\n",
    "for y in y_list:\n",
    "    plt.plot(x, y)"
   ]
  },
  {
   "cell_type": "code",
   "execution_count": 13,
   "metadata": {},
   "outputs": [],
   "source": [
    "instr.close()"
   ]
  }
 ],
 "metadata": {
  "kernelspec": {
   "display_name": "Python 3",
   "language": "python",
   "name": "python3"
  },
  "language_info": {
   "codemirror_mode": {
    "name": "ipython",
    "version": 3
   },
   "file_extension": ".py",
   "mimetype": "text/x-python",
   "name": "python",
   "nbconvert_exporter": "python",
   "pygments_lexer": "ipython3",
   "version": "3.7.7"
  }
 },
 "nbformat": 4,
 "nbformat_minor": 4
}
