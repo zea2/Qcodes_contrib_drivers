{
 "cells": [
  {
   "cell_type": "code",
   "execution_count": 1,
   "metadata": {},
   "outputs": [],
   "source": [
    "from qcodes_contrib_drivers.drivers.Sirah.Matisse import *\n",
    "import qcodes as qc\n",
    "from qcodes.loops import Loop\n",
    "import visa\n",
    "from qcodes.dataset.plotting import plot_dataset\n",
    "import time"
   ]
  },
  {
   "cell_type": "code",
   "execution_count": 2,
   "metadata": {},
   "outputs": [
    {
     "data": {
      "text/plain": [
       "('USB0::0x17E7::0x0101::15-25-15::INSTR', 'ASRL1::INSTR', 'ASRL3::INSTR')"
      ]
     },
     "execution_count": 2,
     "metadata": {},
     "output_type": "execute_result"
    }
   ],
   "source": [
    "rm = visa.ResourceManager()\n",
    "\n",
    "rm.list_resources()"
   ]
  },
  {
   "cell_type": "code",
   "execution_count": null,
   "metadata": {},
   "outputs": [],
   "source": [
    "vinstr = rm.open_resource(\"USB0::0x17E7::0x0101::15-25-15::INSTR\")"
   ]
  },
  {
   "cell_type": "code",
   "execution_count": null,
   "metadata": {},
   "outputs": [],
   "source": [
    "vinstr.query(\"MOTBI:CL\")"
   ]
  },
  {
   "cell_type": "code",
   "execution_count": null,
   "metadata": {},
   "outputs": [],
   "source": [
    "vinstr.query(\"MOTTE:CL\")"
   ]
  },
  {
   "cell_type": "code",
   "execution_count": null,
   "metadata": {},
   "outputs": [],
   "source": [
    "vinstr.query(\"ERR:CL\")"
   ]
  },
  {
   "cell_type": "code",
   "execution_count": null,
   "metadata": {},
   "outputs": [],
   "source": [
    "vinstr.query(\"IDN?\")"
   ]
  },
  {
   "cell_type": "code",
   "execution_count": null,
   "metadata": {},
   "outputs": [],
   "source": [
    "vinstr.read_raw()"
   ]
  },
  {
   "cell_type": "code",
   "execution_count": null,
   "metadata": {},
   "outputs": [],
   "source": [
    "vinstr.close()"
   ]
  },
  {
   "cell_type": "code",
   "execution_count": null,
   "metadata": {},
   "outputs": [],
   "source": []
  },
  {
   "cell_type": "code",
   "execution_count": 3,
   "metadata": {},
   "outputs": [
    {
     "name": "stdout",
     "output_type": "stream",
     "text": [
      "Connected to: :IDN: \"Matisse TR S/N:15-25-15 (serial:DSP Rev.:01.01, firmware:Firmware:1.13, Date:Jan 27 2015\") in 0.02s\n"
     ]
    }
   ],
   "source": [
    "instr = SirahMatisse(\"matisse\", \"USB0::0x17E7::0x0101::15-25-15::INSTR\")"
   ]
  },
  {
   "cell_type": "code",
   "execution_count": 15,
   "metadata": {},
   "outputs": [
    {
     "data": {
      "text/plain": [
       "'OK'"
      ]
     },
     "execution_count": 15,
     "metadata": {},
     "output_type": "execute_result"
    }
   ],
   "source": [
    "instr.ask(\"ERR:CL\")"
   ]
  },
  {
   "cell_type": "code",
   "execution_count": 19,
   "metadata": {},
   "outputs": [
    {
     "data": {
      "text/plain": [
       "98050"
      ]
     },
     "execution_count": 19,
     "metadata": {},
     "output_type": "execute_result"
    }
   ],
   "source": [
    "instr.bifi.position()"
   ]
  },
  {
   "cell_type": "code",
   "execution_count": 17,
   "metadata": {},
   "outputs": [],
   "source": [
    "instr.bifi.position(98000)"
   ]
  },
  {
   "cell_type": "code",
   "execution_count": 25,
   "metadata": {},
   "outputs": [],
   "source": [
    "# Sweep position from 98000 to 100000 in steps of 50\n",
    "\n",
    "# Following line doesn't work because sweep-fucntion generates floats instead of ints:\n",
    "# loop = Loop(instr.bifi.position.sweep(98000, 100000, step=50)).each(...)\n",
    "\n",
    "# Instead use a range\n",
    "rng = range(98000, 99000, 50)\n",
    "loop = Loop(instr.bifi.position[rng]).each(instr.bifi.position, instr.power_diode_dc, instr.te_reflex)"
   ]
  },
  {
   "cell_type": "code",
   "execution_count": 26,
   "metadata": {},
   "outputs": [
    {
     "name": "stdout",
     "output_type": "stream",
     "text": [
      "Started at 2020-10-15 12:18:33\n",
      "## SirahMatisse._float_parser(:DPOW:DC: 1.269531e-01)\n",
      "## SirahMatisse._float_parser(:TE:DC: 2.832031e-01)\n",
      "## SirahMatisse._float_parser(:DPOW:DC: 1.269531e-01)\n",
      "## SirahMatisse._float_parser(:TE:DC: 2.832031e-01)\n",
      "## SirahMatisse._float_parser(:DPOW:DC: 1.279297e-01)\n",
      "## SirahMatisse._float_parser(:TE:DC: 2.832031e-01)\n",
      "## SirahMatisse._float_parser(:DPOW:DC: 1.279297e-01)\n",
      "## SirahMatisse._float_parser(:TE:DC: 2.832031e-01)\n",
      "## SirahMatisse._float_parser(:DPOW:DC: 1.279297e-01)\n",
      "## SirahMatisse._float_parser(:TE:DC: 2.890625e-01)\n",
      "## SirahMatisse._float_parser(:DPOW:DC: 1.337891e-01)\n",
      "## SirahMatisse._float_parser(:TE:DC: 2.890625e-01)\n",
      "## SirahMatisse._float_parser(:DPOW:DC: 1.337891e-01)\n",
      "## SirahMatisse._float_parser(:TE:DC: 2.890625e-01)\n",
      "## SirahMatisse._float_parser(:DPOW:DC: 1.337891e-01)\n",
      "## SirahMatisse._float_parser(:TE:DC: 2.939453e-01)\n",
      "## SirahMatisse._float_parser(:DPOW:DC: 1.328125e-01)\n",
      "## SirahMatisse._float_parser(:TE:DC: 2.939453e-01)\n",
      "## SirahMatisse._float_parser(:DPOW:DC: 1.328125e-01)\n",
      "## SirahMatisse._float_parser(:TE:DC: 2.910156e-01)\n",
      "## SirahMatisse._float_parser(:DPOW:DC: 1.328125e-01)\n",
      "## SirahMatisse._float_parser(:TE:DC: 2.910156e-01)\n",
      "## SirahMatisse._float_parser(:DPOW:DC: 1.328125e-01)\n",
      "## SirahMatisse._float_parser(:TE:DC: 2.910156e-01)\n",
      "## SirahMatisse._float_parser(:DPOW:DC: 1.328125e-01)\n",
      "## SirahMatisse._float_parser(:TE:DC: 2.880859e-01)\n",
      "## SirahMatisse._float_parser(:DPOW:DC: 1.328125e-01)\n",
      "## SirahMatisse._float_parser(:TE:DC: 2.880859e-01)\n",
      "## SirahMatisse._float_parser(:DPOW:DC: 1.328125e-01)\n",
      "## SirahMatisse._float_parser(:TE:DC: 2.880859e-01)\n",
      "## SirahMatisse._float_parser(:DPOW:DC: 1.328125e-01)\n",
      "## SirahMatisse._float_parser(:TE:DC: 2.851563e-01)\n",
      "## SirahMatisse._float_parser(:DPOW:DC: 1.318359e-01)\n",
      "## SirahMatisse._float_parser(:TE:DC: 2.851563e-01)\n",
      "## SirahMatisse._float_parser(:DPOW:DC: 1.318359e-01)\n",
      "## SirahMatisse._float_parser(:TE:DC: 2.851563e-01)\n",
      "## SirahMatisse._float_parser(:DPOW:DC: 1.318359e-01)\n",
      "## SirahMatisse._float_parser(:TE:DC: 2.841797e-01)\n",
      "## SirahMatisse._float_parser(:DPOW:DC: 1.328125e-01)\n",
      "## SirahMatisse._float_parser(:TE:DC: 2.841797e-01)\n",
      "DataSet:\n",
      "   location = 'data/2020-10-15/#008_{name}_12-18-33'\n",
      "   <Type>   | <array_id>                | <array.name>   | <array.shape>\n",
      "   Setpoint | matisse_bifi_position_set | position       | (20,)\n",
      "   Measured | matisse_bifi_position     | position       | (20,)\n",
      "   Measured | matisse_power_diode_dc    | power_diode_dc | (20,)\n",
      "   Measured | matisse_te_reflex         | te_reflex      | (20,)\n",
      "Finished at 2020-10-15 12:18:33\n"
     ]
    }
   ],
   "source": [
    "# Run sweep\n",
    "\n",
    "# There will be a problem running the sweep, because setting the position\n",
    "# doesn't wait until the position is reached. Need to do something to prevent\n",
    "# this... (maybe there is a wait-command or poll the position by hand, e.g. poll status != idle)\n",
    "\n",
    "data = loop.run()"
   ]
  },
  {
   "cell_type": "code",
   "execution_count": 27,
   "metadata": {},
   "outputs": [
    {
     "data": {
      "text/plain": [
       "DataSet:\n",
       "   location = 'data/2020-10-15/#008_{name}_12-18-33'\n",
       "   <Type>   | <array_id>                | <array.name>   | <array.shape>\n",
       "   Setpoint | matisse_bifi_position_set | position       | (20,)\n",
       "   Measured | matisse_bifi_position     | position       | (20,)\n",
       "   Measured | matisse_power_diode_dc    | power_diode_dc | (20,)\n",
       "   Measured | matisse_te_reflex         | te_reflex      | (20,)"
      ]
     },
     "execution_count": 27,
     "metadata": {},
     "output_type": "execute_result"
    }
   ],
   "source": [
    "data"
   ]
  },
  {
   "cell_type": "code",
   "execution_count": 28,
   "metadata": {},
   "outputs": [
    {
     "name": "stdout",
     "output_type": "stream",
     "text": [
      "POSITION SET \t MEASURED POS \t POWER DIODE \t THIN ETALON REFLEX\n",
      "98000.0 \t 98000.0 \t 0.1269531 \t 0.2832031\n",
      "98050.0 \t 98009.0 \t 0.1269531 \t 0.2832031\n",
      "98100.0 \t 98050.0 \t 0.1279297 \t 0.2832031\n",
      "98150.0 \t 98050.0 \t 0.1279297 \t 0.2832031\n",
      "98200.0 \t 98050.0 \t 0.1279297 \t 0.2890625\n",
      "98250.0 \t 98050.0 \t 0.1337891 \t 0.2890625\n",
      "98300.0 \t 98050.0 \t 0.1337891 \t 0.2890625\n",
      "98350.0 \t 98050.0 \t 0.1337891 \t 0.2939453\n",
      "98400.0 \t 98050.0 \t 0.1328125 \t 0.2939453\n",
      "98450.0 \t 98050.0 \t 0.1328125 \t 0.2910156\n",
      "98500.0 \t 98050.0 \t 0.1328125 \t 0.2910156\n",
      "98550.0 \t 98050.0 \t 0.1328125 \t 0.2910156\n",
      "98600.0 \t 98050.0 \t 0.1328125 \t 0.2880859\n",
      "98650.0 \t 98050.0 \t 0.1328125 \t 0.2880859\n",
      "98700.0 \t 98050.0 \t 0.1328125 \t 0.2880859\n",
      "98750.0 \t 98050.0 \t 0.1328125 \t 0.2851563\n",
      "98800.0 \t 98050.0 \t 0.1318359 \t 0.2851563\n",
      "98850.0 \t 98050.0 \t 0.1318359 \t 0.2851563\n",
      "98900.0 \t 98050.0 \t 0.1318359 \t 0.2841797\n",
      "98950.0 \t 98050.0 \t 0.1328125 \t 0.2841797\n"
     ]
    }
   ],
   "source": [
    "# Here you will see that sweeping is faster than setting the position\n",
    "print(\"POSITION SET\", \"\\t\", \"MEASURED POS\", \"\\t\", \"POWER DIODE\", \"\\t\", \"THIN ETALON REFLEX\")\n",
    "for i, setpoint in enumerate(data.matisse_bifi_position_set):\n",
    "    print(setpoint, \"\\t\", data.matisse_bifi_position[i], \"\\t\", data.matisse_power_diode_dc[i], \"\\t\", data.matisse_te_reflex[i])"
   ]
  },
  {
   "cell_type": "code",
   "execution_count": 31,
   "metadata": {},
   "outputs": [
    {
     "data": {
      "image/png": "[encoded data removed]",
      "text/plain": [
       "<Figure size 432x288 with 1 Axes>"
      ]
     },
     "metadata": {
      "needs_background": "light"
     },
     "output_type": "display_data"
    }
   ],
   "source": [
    "import matplotlib.pyplot as plt\n",
    "\n",
    "x = data.matisse_bifi_position_set\n",
    "y_list = [data.matisse_power_diode_dc, data.matisse_te_reflex]\n",
    "\n",
    "for y in y_list:\n",
    "    plt.plot(x, y)"
   ]
  },
  {
   "cell_type": "code",
   "execution_count": 32,
   "metadata": {},
   "outputs": [],
   "source": [
    "instr.close()"
   ]
  }
 ],
 "metadata": {
  "kernelspec": {
   "display_name": "Python 3",
   "language": "python",
   "name": "python3"
  },
  "language_info": {
   "codemirror_mode": {
    "name": "ipython",
    "version": 3
   },
   "file_extension": ".py",
   "mimetype": "text/x-python",
   "name": "python",
   "nbconvert_exporter": "python",
   "pygments_lexer": "ipython3",
   "version": "3.7.7"
  }
 },
 "nbformat": 4,
 "nbformat_minor": 4
}
